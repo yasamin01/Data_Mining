{
 "cells": [
  {
   "cell_type": "markdown",
   "id": "09a89fc2",
   "metadata": {},
   "source": [
    "# Data Mining Project (1)"
   ]
  },
  {
   "cell_type": "markdown",
   "id": "f3bf205a",
   "metadata": {},
   "source": [
    "## Import Libraries"
   ]
  },
  {
   "cell_type": "code",
   "execution_count": 1,
   "id": "55578781",
   "metadata": {},
   "outputs": [],
   "source": [
    "import numpy as np\n",
    "import pandas as pd\n",
    "import sklearn.metrics as met\n",
    "from sklearn.neighbors import KNeighborsClassifier\n",
    "from sklearn.naive_bayes import CategoricalNB, GaussianNB\n",
    "import random"
   ]
  },
  {
   "cell_type": "markdown",
   "id": "2bbbd91a",
   "metadata": {},
   "source": [
    "## Import And Read Data"
   ]
  },
  {
   "cell_type": "code",
   "execution_count": 2,
   "id": "9e064ee4",
   "metadata": {},
   "outputs": [
    {
     "data": {
      "text/html": [
       "<div>\n",
       "<style scoped>\n",
       "    .dataframe tbody tr th:only-of-type {\n",
       "        vertical-align: middle;\n",
       "    }\n",
       "\n",
       "    .dataframe tbody tr th {\n",
       "        vertical-align: top;\n",
       "    }\n",
       "\n",
       "    .dataframe thead th {\n",
       "        text-align: right;\n",
       "    }\n",
       "</style>\n",
       "<table border=\"1\" class=\"dataframe\">\n",
       "  <thead>\n",
       "    <tr style=\"text-align: right;\">\n",
       "      <th></th>\n",
       "      <th>HeartDisease</th>\n",
       "      <th>BMI</th>\n",
       "      <th>Smoking</th>\n",
       "      <th>AlcoholDrinking</th>\n",
       "      <th>Stroke</th>\n",
       "      <th>PhysicalHealth</th>\n",
       "      <th>MentalHealth</th>\n",
       "      <th>DiffWalking</th>\n",
       "      <th>Sex</th>\n",
       "      <th>AgeCategory</th>\n",
       "      <th>Race</th>\n",
       "      <th>Diabetic</th>\n",
       "      <th>PhysicalActivity</th>\n",
       "      <th>GenHealth</th>\n",
       "      <th>SleepTime</th>\n",
       "      <th>Asthma</th>\n",
       "      <th>KidneyDisease</th>\n",
       "      <th>SkinCancer</th>\n",
       "    </tr>\n",
       "  </thead>\n",
       "  <tbody>\n",
       "    <tr>\n",
       "      <th>0</th>\n",
       "      <td>No</td>\n",
       "      <td>16.60</td>\n",
       "      <td>Yes</td>\n",
       "      <td>No</td>\n",
       "      <td>No</td>\n",
       "      <td>3</td>\n",
       "      <td>30</td>\n",
       "      <td>No</td>\n",
       "      <td>Female</td>\n",
       "      <td>55-59</td>\n",
       "      <td>White</td>\n",
       "      <td>Yes</td>\n",
       "      <td>Yes</td>\n",
       "      <td>Very good</td>\n",
       "      <td>5</td>\n",
       "      <td>Yes</td>\n",
       "      <td>No</td>\n",
       "      <td>Yes</td>\n",
       "    </tr>\n",
       "    <tr>\n",
       "      <th>1</th>\n",
       "      <td>No</td>\n",
       "      <td>20.34</td>\n",
       "      <td>No</td>\n",
       "      <td>No</td>\n",
       "      <td>Yes</td>\n",
       "      <td>0</td>\n",
       "      <td>0</td>\n",
       "      <td>No</td>\n",
       "      <td>Female</td>\n",
       "      <td>80 or older</td>\n",
       "      <td>White</td>\n",
       "      <td>No</td>\n",
       "      <td>Yes</td>\n",
       "      <td>Very good</td>\n",
       "      <td>7</td>\n",
       "      <td>No</td>\n",
       "      <td>No</td>\n",
       "      <td>No</td>\n",
       "    </tr>\n",
       "    <tr>\n",
       "      <th>2</th>\n",
       "      <td>No</td>\n",
       "      <td>26.58</td>\n",
       "      <td>Yes</td>\n",
       "      <td>No</td>\n",
       "      <td>No</td>\n",
       "      <td>20</td>\n",
       "      <td>30</td>\n",
       "      <td>No</td>\n",
       "      <td>Male</td>\n",
       "      <td>65-69</td>\n",
       "      <td>White</td>\n",
       "      <td>Yes</td>\n",
       "      <td>Yes</td>\n",
       "      <td>Fair</td>\n",
       "      <td>8</td>\n",
       "      <td>Yes</td>\n",
       "      <td>No</td>\n",
       "      <td>No</td>\n",
       "    </tr>\n",
       "    <tr>\n",
       "      <th>3</th>\n",
       "      <td>No</td>\n",
       "      <td>24.21</td>\n",
       "      <td>No</td>\n",
       "      <td>No</td>\n",
       "      <td>No</td>\n",
       "      <td>0</td>\n",
       "      <td>0</td>\n",
       "      <td>No</td>\n",
       "      <td>Female</td>\n",
       "      <td>75-79</td>\n",
       "      <td>White</td>\n",
       "      <td>No</td>\n",
       "      <td>No</td>\n",
       "      <td>Good</td>\n",
       "      <td>6</td>\n",
       "      <td>No</td>\n",
       "      <td>No</td>\n",
       "      <td>Yes</td>\n",
       "    </tr>\n",
       "    <tr>\n",
       "      <th>4</th>\n",
       "      <td>No</td>\n",
       "      <td>23.71</td>\n",
       "      <td>No</td>\n",
       "      <td>No</td>\n",
       "      <td>No</td>\n",
       "      <td>28</td>\n",
       "      <td>0</td>\n",
       "      <td>Yes</td>\n",
       "      <td>Female</td>\n",
       "      <td>40-44</td>\n",
       "      <td>White</td>\n",
       "      <td>No</td>\n",
       "      <td>Yes</td>\n",
       "      <td>Very good</td>\n",
       "      <td>8</td>\n",
       "      <td>No</td>\n",
       "      <td>No</td>\n",
       "      <td>No</td>\n",
       "    </tr>\n",
       "  </tbody>\n",
       "</table>\n",
       "</div>"
      ],
      "text/plain": [
       "  HeartDisease    BMI Smoking AlcoholDrinking Stroke  PhysicalHealth  \\\n",
       "0           No  16.60     Yes              No     No               3   \n",
       "1           No  20.34      No              No    Yes               0   \n",
       "2           No  26.58     Yes              No     No              20   \n",
       "3           No  24.21      No              No     No               0   \n",
       "4           No  23.71      No              No     No              28   \n",
       "\n",
       "   MentalHealth DiffWalking     Sex  AgeCategory   Race Diabetic  \\\n",
       "0            30          No  Female        55-59  White      Yes   \n",
       "1             0          No  Female  80 or older  White       No   \n",
       "2            30          No    Male        65-69  White      Yes   \n",
       "3             0          No  Female        75-79  White       No   \n",
       "4             0         Yes  Female        40-44  White       No   \n",
       "\n",
       "  PhysicalActivity  GenHealth  SleepTime Asthma KidneyDisease SkinCancer  \n",
       "0              Yes  Very good          5    Yes            No        Yes  \n",
       "1              Yes  Very good          7     No            No         No  \n",
       "2              Yes       Fair          8    Yes            No         No  \n",
       "3               No       Good          6     No            No        Yes  \n",
       "4              Yes  Very good          8     No            No         No  "
      ]
     },
     "execution_count": 2,
     "metadata": {},
     "output_type": "execute_result"
    }
   ],
   "source": [
    "data = pd.read_csv('heart_disease.csv')\n",
    "\n",
    "data.head()"
   ]
  },
  {
   "cell_type": "code",
   "execution_count": 3,
   "id": "5807ceef",
   "metadata": {},
   "outputs": [
    {
     "data": {
      "text/plain": [
       "(10000, 18)"
      ]
     },
     "execution_count": 3,
     "metadata": {},
     "output_type": "execute_result"
    }
   ],
   "source": [
    "data.shape"
   ]
  },
  {
   "cell_type": "markdown",
   "id": "78460023",
   "metadata": {},
   "source": [
    "## Data Types, Missing data And Drop Columns"
   ]
  },
  {
   "cell_type": "code",
   "execution_count": 4,
   "id": "3f83e2ef",
   "metadata": {},
   "outputs": [
    {
     "name": "stdout",
     "output_type": "stream",
     "text": [
      "<class 'pandas.core.frame.DataFrame'>\n",
      "RangeIndex: 10000 entries, 0 to 9999\n",
      "Data columns (total 18 columns):\n",
      " #   Column            Non-Null Count  Dtype  \n",
      "---  ------            --------------  -----  \n",
      " 0   HeartDisease      10000 non-null  object \n",
      " 1   BMI               10000 non-null  float64\n",
      " 2   Smoking           10000 non-null  object \n",
      " 3   AlcoholDrinking   10000 non-null  object \n",
      " 4   Stroke            10000 non-null  object \n",
      " 5   PhysicalHealth    10000 non-null  int64  \n",
      " 6   MentalHealth      10000 non-null  int64  \n",
      " 7   DiffWalking       10000 non-null  object \n",
      " 8   Sex               10000 non-null  object \n",
      " 9   AgeCategory       10000 non-null  object \n",
      " 10  Race              10000 non-null  object \n",
      " 11  Diabetic          10000 non-null  object \n",
      " 12  PhysicalActivity  10000 non-null  object \n",
      " 13  GenHealth         10000 non-null  object \n",
      " 14  SleepTime         10000 non-null  int64  \n",
      " 15  Asthma            10000 non-null  object \n",
      " 16  KidneyDisease     10000 non-null  object \n",
      " 17  SkinCancer        10000 non-null  object \n",
      "dtypes: float64(1), int64(3), object(14)\n",
      "memory usage: 1.4+ MB\n"
     ]
    }
   ],
   "source": [
    "data.info()"
   ]
  },
  {
   "cell_type": "code",
   "execution_count": 5,
   "id": "1bce9909",
   "metadata": {},
   "outputs": [
    {
     "data": {
      "text/plain": [
       "(10000, 9)"
      ]
     },
     "execution_count": 5,
     "metadata": {},
     "output_type": "execute_result"
    }
   ],
   "source": [
    "data = data.drop(['PhysicalHealth', 'MentalHealth', 'SkinCancer', 'KidneyDisease', 'Asthma', 'Stroke', 'Race', 'DiffWalking', 'GenHealth'], axis=1)\n",
    "\n",
    "data.shape"
   ]
  },
  {
   "cell_type": "code",
   "execution_count": 6,
   "id": "3e976bed",
   "metadata": {},
   "outputs": [
    {
     "data": {
      "text/html": [
       "<div>\n",
       "<style scoped>\n",
       "    .dataframe tbody tr th:only-of-type {\n",
       "        vertical-align: middle;\n",
       "    }\n",
       "\n",
       "    .dataframe tbody tr th {\n",
       "        vertical-align: top;\n",
       "    }\n",
       "\n",
       "    .dataframe thead th {\n",
       "        text-align: right;\n",
       "    }\n",
       "</style>\n",
       "<table border=\"1\" class=\"dataframe\">\n",
       "  <thead>\n",
       "    <tr style=\"text-align: right;\">\n",
       "      <th></th>\n",
       "      <th>HeartDisease</th>\n",
       "      <th>BMI</th>\n",
       "      <th>Smoking</th>\n",
       "      <th>AlcoholDrinking</th>\n",
       "      <th>Sex</th>\n",
       "      <th>AgeCategory</th>\n",
       "      <th>Diabetic</th>\n",
       "      <th>PhysicalActivity</th>\n",
       "      <th>SleepTime</th>\n",
       "    </tr>\n",
       "  </thead>\n",
       "  <tbody>\n",
       "    <tr>\n",
       "      <th>0</th>\n",
       "      <td>No</td>\n",
       "      <td>16.60</td>\n",
       "      <td>Yes</td>\n",
       "      <td>No</td>\n",
       "      <td>Female</td>\n",
       "      <td>55-59</td>\n",
       "      <td>Yes</td>\n",
       "      <td>Yes</td>\n",
       "      <td>5</td>\n",
       "    </tr>\n",
       "    <tr>\n",
       "      <th>1</th>\n",
       "      <td>No</td>\n",
       "      <td>20.34</td>\n",
       "      <td>No</td>\n",
       "      <td>No</td>\n",
       "      <td>Female</td>\n",
       "      <td>80 or older</td>\n",
       "      <td>No</td>\n",
       "      <td>Yes</td>\n",
       "      <td>7</td>\n",
       "    </tr>\n",
       "    <tr>\n",
       "      <th>2</th>\n",
       "      <td>No</td>\n",
       "      <td>26.58</td>\n",
       "      <td>Yes</td>\n",
       "      <td>No</td>\n",
       "      <td>Male</td>\n",
       "      <td>65-69</td>\n",
       "      <td>Yes</td>\n",
       "      <td>Yes</td>\n",
       "      <td>8</td>\n",
       "    </tr>\n",
       "    <tr>\n",
       "      <th>3</th>\n",
       "      <td>No</td>\n",
       "      <td>24.21</td>\n",
       "      <td>No</td>\n",
       "      <td>No</td>\n",
       "      <td>Female</td>\n",
       "      <td>75-79</td>\n",
       "      <td>No</td>\n",
       "      <td>No</td>\n",
       "      <td>6</td>\n",
       "    </tr>\n",
       "    <tr>\n",
       "      <th>4</th>\n",
       "      <td>No</td>\n",
       "      <td>23.71</td>\n",
       "      <td>No</td>\n",
       "      <td>No</td>\n",
       "      <td>Female</td>\n",
       "      <td>40-44</td>\n",
       "      <td>No</td>\n",
       "      <td>Yes</td>\n",
       "      <td>8</td>\n",
       "    </tr>\n",
       "  </tbody>\n",
       "</table>\n",
       "</div>"
      ],
      "text/plain": [
       "  HeartDisease    BMI Smoking AlcoholDrinking     Sex  AgeCategory Diabetic  \\\n",
       "0           No  16.60     Yes              No  Female        55-59      Yes   \n",
       "1           No  20.34      No              No  Female  80 or older       No   \n",
       "2           No  26.58     Yes              No    Male        65-69      Yes   \n",
       "3           No  24.21      No              No  Female        75-79       No   \n",
       "4           No  23.71      No              No  Female        40-44       No   \n",
       "\n",
       "  PhysicalActivity  SleepTime  \n",
       "0              Yes          5  \n",
       "1              Yes          7  \n",
       "2              Yes          8  \n",
       "3               No          6  \n",
       "4              Yes          8  "
      ]
     },
     "execution_count": 6,
     "metadata": {},
     "output_type": "execute_result"
    }
   ],
   "source": [
    "data.head()"
   ]
  },
  {
   "cell_type": "code",
   "execution_count": 7,
   "id": "eb80f358",
   "metadata": {},
   "outputs": [
    {
     "data": {
      "text/plain": [
       "HeartDisease        0\n",
       "BMI                 0\n",
       "Smoking             0\n",
       "AlcoholDrinking     0\n",
       "Sex                 0\n",
       "AgeCategory         0\n",
       "Diabetic            0\n",
       "PhysicalActivity    0\n",
       "SleepTime           0\n",
       "dtype: int64"
      ]
     },
     "execution_count": 7,
     "metadata": {},
     "output_type": "execute_result"
    }
   ],
   "source": [
    "# Missing Values\n",
    "data.isnull().sum().sort_values(ascending = False)"
   ]
  },
  {
   "cell_type": "code",
   "execution_count": 8,
   "id": "2448956c",
   "metadata": {},
   "outputs": [
    {
     "data": {
      "text/plain": [
       "\"cleanup_nums = {'HeartDisease': {'No': 0, 'Yes': 1}, \\n                'Smoking': {'Yes': 1, 'No': 0},\\n               'AlcoholDrinking': {'Yes': 1, 'No': 0},\\n               'PhysicalActivity': {'Yes': 1, 'No': 0},\\n               'Sex': {'Female': 1, 'Male': 0}}\\n\\ndata = data.replace(cleanup_nums)\""
      ]
     },
     "execution_count": 8,
     "metadata": {},
     "output_type": "execute_result"
    }
   ],
   "source": [
    "\"\"\"cleanup_nums = {'HeartDisease': {'No': 0, 'Yes': 1}, \n",
    "                'Smoking': {'Yes': 1, 'No': 0},\n",
    "               'AlcoholDrinking': {'Yes': 1, 'No': 0},\n",
    "               'PhysicalActivity': {'Yes': 1, 'No': 0},\n",
    "               'Sex': {'Female': 1, 'Male': 0}}\n",
    "\n",
    "data = data.replace(cleanup_nums)\"\"\""
   ]
  },
  {
   "cell_type": "code",
   "execution_count": 9,
   "id": "2d5883d7",
   "metadata": {},
   "outputs": [
    {
     "data": {
      "text/plain": [
       "\"data['Diabetic'] = data['Diabetic'].astype('category').cat.codes\""
      ]
     },
     "execution_count": 9,
     "metadata": {},
     "output_type": "execute_result"
    }
   ],
   "source": [
    "\"\"\"data['Diabetic'] = data['Diabetic'].astype('category').cat.codes\"\"\""
   ]
  },
  {
   "cell_type": "code",
   "execution_count": 10,
   "id": "3723ba50",
   "metadata": {},
   "outputs": [
    {
     "data": {
      "text/html": [
       "<div>\n",
       "<style scoped>\n",
       "    .dataframe tbody tr th:only-of-type {\n",
       "        vertical-align: middle;\n",
       "    }\n",
       "\n",
       "    .dataframe tbody tr th {\n",
       "        vertical-align: top;\n",
       "    }\n",
       "\n",
       "    .dataframe thead th {\n",
       "        text-align: right;\n",
       "    }\n",
       "</style>\n",
       "<table border=\"1\" class=\"dataframe\">\n",
       "  <thead>\n",
       "    <tr style=\"text-align: right;\">\n",
       "      <th></th>\n",
       "      <th>HeartDisease</th>\n",
       "      <th>BMI</th>\n",
       "      <th>Smoking</th>\n",
       "      <th>AlcoholDrinking</th>\n",
       "      <th>Sex</th>\n",
       "      <th>AgeCategory</th>\n",
       "      <th>Diabetic</th>\n",
       "      <th>PhysicalActivity</th>\n",
       "      <th>SleepTime</th>\n",
       "    </tr>\n",
       "  </thead>\n",
       "  <tbody>\n",
       "    <tr>\n",
       "      <th>0</th>\n",
       "      <td>No</td>\n",
       "      <td>16.60</td>\n",
       "      <td>Yes</td>\n",
       "      <td>No</td>\n",
       "      <td>Female</td>\n",
       "      <td>55-59</td>\n",
       "      <td>Yes</td>\n",
       "      <td>Yes</td>\n",
       "      <td>5</td>\n",
       "    </tr>\n",
       "    <tr>\n",
       "      <th>1</th>\n",
       "      <td>No</td>\n",
       "      <td>20.34</td>\n",
       "      <td>No</td>\n",
       "      <td>No</td>\n",
       "      <td>Female</td>\n",
       "      <td>80 or older</td>\n",
       "      <td>No</td>\n",
       "      <td>Yes</td>\n",
       "      <td>7</td>\n",
       "    </tr>\n",
       "    <tr>\n",
       "      <th>2</th>\n",
       "      <td>No</td>\n",
       "      <td>26.58</td>\n",
       "      <td>Yes</td>\n",
       "      <td>No</td>\n",
       "      <td>Male</td>\n",
       "      <td>65-69</td>\n",
       "      <td>Yes</td>\n",
       "      <td>Yes</td>\n",
       "      <td>8</td>\n",
       "    </tr>\n",
       "    <tr>\n",
       "      <th>3</th>\n",
       "      <td>No</td>\n",
       "      <td>24.21</td>\n",
       "      <td>No</td>\n",
       "      <td>No</td>\n",
       "      <td>Female</td>\n",
       "      <td>75-79</td>\n",
       "      <td>No</td>\n",
       "      <td>No</td>\n",
       "      <td>6</td>\n",
       "    </tr>\n",
       "    <tr>\n",
       "      <th>4</th>\n",
       "      <td>No</td>\n",
       "      <td>23.71</td>\n",
       "      <td>No</td>\n",
       "      <td>No</td>\n",
       "      <td>Female</td>\n",
       "      <td>40-44</td>\n",
       "      <td>No</td>\n",
       "      <td>Yes</td>\n",
       "      <td>8</td>\n",
       "    </tr>\n",
       "  </tbody>\n",
       "</table>\n",
       "</div>"
      ],
      "text/plain": [
       "  HeartDisease    BMI Smoking AlcoholDrinking     Sex  AgeCategory Diabetic  \\\n",
       "0           No  16.60     Yes              No  Female        55-59      Yes   \n",
       "1           No  20.34      No              No  Female  80 or older       No   \n",
       "2           No  26.58     Yes              No    Male        65-69      Yes   \n",
       "3           No  24.21      No              No  Female        75-79       No   \n",
       "4           No  23.71      No              No  Female        40-44       No   \n",
       "\n",
       "  PhysicalActivity  SleepTime  \n",
       "0              Yes          5  \n",
       "1              Yes          7  \n",
       "2              Yes          8  \n",
       "3               No          6  \n",
       "4              Yes          8  "
      ]
     },
     "execution_count": 10,
     "metadata": {},
     "output_type": "execute_result"
    }
   ],
   "source": [
    "data.head()"
   ]
  },
  {
   "cell_type": "code",
   "execution_count": 11,
   "id": "29afc862",
   "metadata": {},
   "outputs": [
    {
     "data": {
      "text/plain": [
       "65-69          1232\n",
       "70-74          1105\n",
       "60-64          1100\n",
       "80 or older     891\n",
       "55-59           871\n",
       "75-79           806\n",
       "50-54           770\n",
       "45-49           623\n",
       "40-44           589\n",
       "35-39           572\n",
       "30-34           536\n",
       "18-24           484\n",
       "25-29           421\n",
       "Name: AgeCategory, dtype: int64"
      ]
     },
     "execution_count": 11,
     "metadata": {},
     "output_type": "execute_result"
    }
   ],
   "source": [
    "data['AgeCategory'].value_counts()"
   ]
  },
  {
   "cell_type": "code",
   "execution_count": 12,
   "id": "2cb1a3e3",
   "metadata": {},
   "outputs": [],
   "source": [
    "data['AgeCategory'] = data['AgeCategory'].astype('category').cat.codes"
   ]
  },
  {
   "cell_type": "code",
   "execution_count": 13,
   "id": "f5e4de96",
   "metadata": {},
   "outputs": [
    {
     "data": {
      "text/html": [
       "<div>\n",
       "<style scoped>\n",
       "    .dataframe tbody tr th:only-of-type {\n",
       "        vertical-align: middle;\n",
       "    }\n",
       "\n",
       "    .dataframe tbody tr th {\n",
       "        vertical-align: top;\n",
       "    }\n",
       "\n",
       "    .dataframe thead th {\n",
       "        text-align: right;\n",
       "    }\n",
       "</style>\n",
       "<table border=\"1\" class=\"dataframe\">\n",
       "  <thead>\n",
       "    <tr style=\"text-align: right;\">\n",
       "      <th></th>\n",
       "      <th>HeartDisease</th>\n",
       "      <th>BMI</th>\n",
       "      <th>Smoking</th>\n",
       "      <th>AlcoholDrinking</th>\n",
       "      <th>Sex</th>\n",
       "      <th>AgeCategory</th>\n",
       "      <th>Diabetic</th>\n",
       "      <th>PhysicalActivity</th>\n",
       "      <th>SleepTime</th>\n",
       "    </tr>\n",
       "  </thead>\n",
       "  <tbody>\n",
       "    <tr>\n",
       "      <th>0</th>\n",
       "      <td>No</td>\n",
       "      <td>16.60</td>\n",
       "      <td>Yes</td>\n",
       "      <td>No</td>\n",
       "      <td>Female</td>\n",
       "      <td>7</td>\n",
       "      <td>Yes</td>\n",
       "      <td>Yes</td>\n",
       "      <td>5</td>\n",
       "    </tr>\n",
       "    <tr>\n",
       "      <th>1</th>\n",
       "      <td>No</td>\n",
       "      <td>20.34</td>\n",
       "      <td>No</td>\n",
       "      <td>No</td>\n",
       "      <td>Female</td>\n",
       "      <td>12</td>\n",
       "      <td>No</td>\n",
       "      <td>Yes</td>\n",
       "      <td>7</td>\n",
       "    </tr>\n",
       "    <tr>\n",
       "      <th>2</th>\n",
       "      <td>No</td>\n",
       "      <td>26.58</td>\n",
       "      <td>Yes</td>\n",
       "      <td>No</td>\n",
       "      <td>Male</td>\n",
       "      <td>9</td>\n",
       "      <td>Yes</td>\n",
       "      <td>Yes</td>\n",
       "      <td>8</td>\n",
       "    </tr>\n",
       "    <tr>\n",
       "      <th>3</th>\n",
       "      <td>No</td>\n",
       "      <td>24.21</td>\n",
       "      <td>No</td>\n",
       "      <td>No</td>\n",
       "      <td>Female</td>\n",
       "      <td>11</td>\n",
       "      <td>No</td>\n",
       "      <td>No</td>\n",
       "      <td>6</td>\n",
       "    </tr>\n",
       "    <tr>\n",
       "      <th>4</th>\n",
       "      <td>No</td>\n",
       "      <td>23.71</td>\n",
       "      <td>No</td>\n",
       "      <td>No</td>\n",
       "      <td>Female</td>\n",
       "      <td>4</td>\n",
       "      <td>No</td>\n",
       "      <td>Yes</td>\n",
       "      <td>8</td>\n",
       "    </tr>\n",
       "  </tbody>\n",
       "</table>\n",
       "</div>"
      ],
      "text/plain": [
       "  HeartDisease    BMI Smoking AlcoholDrinking     Sex  AgeCategory Diabetic  \\\n",
       "0           No  16.60     Yes              No  Female            7      Yes   \n",
       "1           No  20.34      No              No  Female           12       No   \n",
       "2           No  26.58     Yes              No    Male            9      Yes   \n",
       "3           No  24.21      No              No  Female           11       No   \n",
       "4           No  23.71      No              No  Female            4       No   \n",
       "\n",
       "  PhysicalActivity  SleepTime  \n",
       "0              Yes          5  \n",
       "1              Yes          7  \n",
       "2              Yes          8  \n",
       "3               No          6  \n",
       "4              Yes          8  "
      ]
     },
     "execution_count": 13,
     "metadata": {},
     "output_type": "execute_result"
    }
   ],
   "source": [
    "data.head()"
   ]
  },
  {
   "cell_type": "code",
   "execution_count": 14,
   "id": "eff7dbbf",
   "metadata": {},
   "outputs": [
    {
     "name": "stderr",
     "output_type": "stream",
     "text": [
      "<ipython-input-14-d9565333ed82>:8: SettingWithCopyWarning: \n",
      "A value is trying to be set on a copy of a slice from a DataFrame\n",
      "\n",
      "See the caveats in the documentation: https://pandas.pydata.org/pandas-docs/stable/user_guide/indexing.html#returning-a-view-versus-a-copy\n",
      "  X[i] = (X[i] - Min) / (Max - Min)\n"
     ]
    }
   ],
   "source": [
    "# Normalization\n",
    "\n",
    "N = len(data)\n",
    "def normalize(X):\n",
    "    Max = max(X)\n",
    "    Min = min(X)\n",
    "    for i in range(0, N):\n",
    "        X[i] = (X[i] - Min) / (Max - Min)\n",
    "        \n",
    "B = normalize(data['BMI'])"
   ]
  },
  {
   "cell_type": "code",
   "execution_count": 15,
   "id": "228ac882",
   "metadata": {},
   "outputs": [
    {
     "data": {
      "text/html": [
       "<div>\n",
       "<style scoped>\n",
       "    .dataframe tbody tr th:only-of-type {\n",
       "        vertical-align: middle;\n",
       "    }\n",
       "\n",
       "    .dataframe tbody tr th {\n",
       "        vertical-align: top;\n",
       "    }\n",
       "\n",
       "    .dataframe thead th {\n",
       "        text-align: right;\n",
       "    }\n",
       "</style>\n",
       "<table border=\"1\" class=\"dataframe\">\n",
       "  <thead>\n",
       "    <tr style=\"text-align: right;\">\n",
       "      <th></th>\n",
       "      <th>HeartDisease</th>\n",
       "      <th>BMI</th>\n",
       "      <th>Smoking</th>\n",
       "      <th>AlcoholDrinking</th>\n",
       "      <th>Sex</th>\n",
       "      <th>AgeCategory</th>\n",
       "      <th>Diabetic</th>\n",
       "      <th>PhysicalActivity</th>\n",
       "      <th>SleepTime</th>\n",
       "    </tr>\n",
       "  </thead>\n",
       "  <tbody>\n",
       "    <tr>\n",
       "      <th>0</th>\n",
       "      <td>No</td>\n",
       "      <td>0.058423</td>\n",
       "      <td>Yes</td>\n",
       "      <td>No</td>\n",
       "      <td>Female</td>\n",
       "      <td>7</td>\n",
       "      <td>Yes</td>\n",
       "      <td>Yes</td>\n",
       "      <td>5</td>\n",
       "    </tr>\n",
       "    <tr>\n",
       "      <th>1</th>\n",
       "      <td>No</td>\n",
       "      <td>0.111458</td>\n",
       "      <td>No</td>\n",
       "      <td>No</td>\n",
       "      <td>Female</td>\n",
       "      <td>12</td>\n",
       "      <td>No</td>\n",
       "      <td>Yes</td>\n",
       "      <td>7</td>\n",
       "    </tr>\n",
       "    <tr>\n",
       "      <th>2</th>\n",
       "      <td>No</td>\n",
       "      <td>0.199943</td>\n",
       "      <td>Yes</td>\n",
       "      <td>No</td>\n",
       "      <td>Male</td>\n",
       "      <td>9</td>\n",
       "      <td>Yes</td>\n",
       "      <td>Yes</td>\n",
       "      <td>8</td>\n",
       "    </tr>\n",
       "    <tr>\n",
       "      <th>3</th>\n",
       "      <td>No</td>\n",
       "      <td>0.166336</td>\n",
       "      <td>No</td>\n",
       "      <td>No</td>\n",
       "      <td>Female</td>\n",
       "      <td>11</td>\n",
       "      <td>No</td>\n",
       "      <td>No</td>\n",
       "      <td>6</td>\n",
       "    </tr>\n",
       "    <tr>\n",
       "      <th>4</th>\n",
       "      <td>No</td>\n",
       "      <td>0.159246</td>\n",
       "      <td>No</td>\n",
       "      <td>No</td>\n",
       "      <td>Female</td>\n",
       "      <td>4</td>\n",
       "      <td>No</td>\n",
       "      <td>Yes</td>\n",
       "      <td>8</td>\n",
       "    </tr>\n",
       "  </tbody>\n",
       "</table>\n",
       "</div>"
      ],
      "text/plain": [
       "  HeartDisease       BMI Smoking AlcoholDrinking     Sex  AgeCategory  \\\n",
       "0           No  0.058423     Yes              No  Female            7   \n",
       "1           No  0.111458      No              No  Female           12   \n",
       "2           No  0.199943     Yes              No    Male            9   \n",
       "3           No  0.166336      No              No  Female           11   \n",
       "4           No  0.159246      No              No  Female            4   \n",
       "\n",
       "  Diabetic PhysicalActivity  SleepTime  \n",
       "0      Yes              Yes          5  \n",
       "1       No              Yes          7  \n",
       "2      Yes              Yes          8  \n",
       "3       No               No          6  \n",
       "4       No              Yes          8  "
      ]
     },
     "execution_count": 15,
     "metadata": {},
     "output_type": "execute_result"
    }
   ],
   "source": [
    "data.head()"
   ]
  },
  {
   "cell_type": "markdown",
   "id": "c84f9ef7",
   "metadata": {},
   "source": [
    "## Dataset Preparation and Splitting "
   ]
  },
  {
   "cell_type": "code",
   "execution_count": 16,
   "id": "ec51b836",
   "metadata": {},
   "outputs": [],
   "source": [
    "X = data.drop('HeartDisease', axis=1)\n",
    "Y = data['HeartDisease'] #Target\n",
    "\n",
    "# First Try\n",
    "num_of_rows = int(len(data) * 0.8)\n",
    "\n",
    "X_train = X[:num_of_rows]\n",
    "X_test = X[num_of_rows:]\n",
    "\n",
    "Y_train = Y[:num_of_rows]\n",
    "Y_test = Y[num_of_rows:]\n",
    "x = Y[num_of_rows:]"
   ]
  },
  {
   "cell_type": "markdown",
   "id": "330cdc63",
   "metadata": {},
   "source": [
    "## Modeling"
   ]
  },
  {
   "cell_type": "markdown",
   "id": "673786c8",
   "metadata": {},
   "source": [
    "## Naive Bayes"
   ]
  },
  {
   "cell_type": "code",
   "execution_count": 17,
   "id": "f084833c",
   "metadata": {},
   "outputs": [],
   "source": [
    "# Calculate P(Y=y) for all possible y\n",
    "\n",
    "def calculate_prior(df, Y):\n",
    "    classes = sorted(list(Y.unique()))\n",
    "    print(classes)\n",
    "    prior = []\n",
    "    for i in classes:\n",
    "        prior.append(len(df[Y==i])/len(df))\n",
    "    return prior"
   ]
  },
  {
   "cell_type": "code",
   "execution_count": 18,
   "id": "cd239ae7",
   "metadata": {},
   "outputs": [
    {
     "name": "stdout",
     "output_type": "stream",
     "text": [
      "['No', 'Yes']\n"
     ]
    },
    {
     "data": {
      "text/plain": [
       "[0.904625, 0.095375]"
      ]
     },
     "execution_count": 18,
     "metadata": {},
     "output_type": "execute_result"
    }
   ],
   "source": [
    "x = calculate_prior(X_train, Y_train)\n",
    "x"
   ]
  },
  {
   "cell_type": "code",
   "execution_count": 19,
   "id": "bd285418",
   "metadata": {},
   "outputs": [],
   "source": [
    "# Calculate P(X=x|Y=y) Categorical\n",
    "\n",
    "def calculate_likelihood_categorical(df, feat_name, feat_val, Y, label):\n",
    "    df = df.drop(['BMI', 'AgeCategory', 'SleepTime'], axis=1)\n",
    "    df = df[Y==label]\n",
    "    p_x_given_y = len(df[df[feat_name]==feat_val])/len(df)\n",
    "    return p_x_given_y"
   ]
  },
  {
   "cell_type": "code",
   "execution_count": 20,
   "id": "bbc71db2",
   "metadata": {},
   "outputs": [
    {
     "data": {
      "text/plain": [
       "0.4294597208788172"
      ]
     },
     "execution_count": 20,
     "metadata": {},
     "output_type": "execute_result"
    }
   ],
   "source": [
    "x = calculate_likelihood_categorical(X_train, 'Smoking', \"Yes\", Y_train, \"No\")\n",
    "x"
   ]
  },
  {
   "cell_type": "code",
   "execution_count": 21,
   "id": "f545dbf1",
   "metadata": {},
   "outputs": [],
   "source": [
    "# Calculate P(X=x|Y=y) Using Gaussain dist\n",
    "\n",
    "def calculate_likelihood_gaussian(df, feat_name, feat_val, Y, label):\n",
    "    df = df.drop(['Smoking', 'AlcoholDrinking', 'Sex', 'Diabetic', 'PhysicalActivity'], axis=1)\n",
    "    df = df[Y == label]\n",
    "    mean, std = df[feat_name].mean(), df[feat_name].std()\n",
    "    p_x_given_y = (1 / (np.sqrt(2 * np.pi) * std)) * np.exp(-((feat_val - mean)**2 / (2 * std**2)))\n",
    "    return p_x_given_y"
   ]
  },
  {
   "cell_type": "code",
   "execution_count": 67,
   "id": "d31ba825",
   "metadata": {},
   "outputs": [
    {
     "data": {
      "text/plain": [
       "3.9434810434464582"
      ]
     },
     "execution_count": 67,
     "metadata": {},
     "output_type": "execute_result"
    }
   ],
   "source": [
    "x = calculate_likelihood_gaussian(X_train, 'BMI',0.201361, Y_train, 'Yes')\n",
    "x"
   ]
  },
  {
   "cell_type": "code",
   "execution_count": 68,
   "id": "0f39f688",
   "metadata": {},
   "outputs": [],
   "source": [
    "# Calculate P(X=x1|Y=y)P(X=x2|Y=y)...P(X=xn|Y=y)*P(Y=y)\n",
    "\n",
    "def naive_bayes(df, X, Y):\n",
    "    \n",
    "    features = list(df.columns)[:]\n",
    "    print(features)\n",
    "    prior = calculate_prior(df, Y)\n",
    "    \n",
    "    Y_pred = []\n",
    "    \n",
    "    X = X.iterrows()\n",
    "    print(X)\n",
    "    for x in X:\n",
    "        print(x)\n",
    "        \n",
    "        # Calculate likelihood\n",
    "        labels = sorted(list(Y.unique()))\n",
    "        likelihood = [1]*len(labels)\n",
    "        for i in range(len(labels)): \n",
    "            for j in range(len(features)): \n",
    "                print(x)\n",
    "                if(j==0):\n",
    "                    likelihood[i] *= calculate_likelihood_gaussian(df,features[j], x[j], Y, labels[i])\n",
    "                    print(likelihood[i])\n",
    "                elif(j==4):\n",
    "                    likelihood[i] *= calculate_likelihood_gaussian(df,features[j], x[j], Y, labels[i])\n",
    "                elif(j==7):\n",
    "                    likelihood[i] *= calculate_likelihood_gaussian(df,features[j], x[j], Y, labels[i])\n",
    "                else:\n",
    "                    likelihood[i] *= calculate_likelihood_categorical(df,features[j], x[j], Y, labels[i])\n",
    "                \n",
    "           \n",
    "                \n",
    "        post_prob = [1]*len(labels)\n",
    "        for i in range(len(labels)):\n",
    "            post_prob[i] = likelihood[i] * prior[i]\n",
    "        \n",
    "        Y_pred.append(np.argmax(post_prob))\n",
    "        \n",
    "        for i in range(len(X)):\n",
    "            if(Y_pred[i] == 0):\n",
    "                Y_pred[i] = 'No'\n",
    "            else:\n",
    "                Y_pred[i] = 'Yes'\n",
    "        \n",
    "    return np.array(Y_pred)"
   ]
  },
  {
   "cell_type": "code",
   "execution_count": 69,
   "id": "c28d33a5",
   "metadata": {},
   "outputs": [
    {
     "name": "stdout",
     "output_type": "stream",
     "text": [
      "['BMI', 'Smoking', 'AlcoholDrinking', 'Sex', 'AgeCategory', 'Diabetic', 'PhysicalActivity', 'SleepTime']\n",
      "['No', 'Yes']\n",
      "<generator object DataFrame.iterrows at 0x7fdf72b266d0>\n",
      "(8000, BMI                 0.201361\n",
      "Smoking                  Yes\n",
      "AlcoholDrinking           No\n",
      "Sex                     Male\n",
      "AgeCategory                3\n",
      "Diabetic                  No\n",
      "PhysicalActivity         Yes\n",
      "SleepTime                  5\n",
      "Name: 8000, dtype: object)\n",
      "(8000, BMI                 0.201361\n",
      "Smoking                  Yes\n",
      "AlcoholDrinking           No\n",
      "Sex                     Male\n",
      "AgeCategory                3\n",
      "Diabetic                  No\n",
      "PhysicalActivity         Yes\n",
      "SleepTime                  5\n",
      "Name: 8000, dtype: object)\n",
      "0.0\n",
      "(8000, BMI                 0.201361\n",
      "Smoking                  Yes\n",
      "AlcoholDrinking           No\n",
      "Sex                     Male\n",
      "AgeCategory                3\n",
      "Diabetic                  No\n",
      "PhysicalActivity         Yes\n",
      "SleepTime                  5\n",
      "Name: 8000, dtype: object)\n"
     ]
    },
    {
     "ename": "ValueError",
     "evalue": "Can only compare identically-labeled Series objects",
     "output_type": "error",
     "traceback": [
      "\u001b[0;31m---------------------------------------------------------------------------\u001b[0m",
      "\u001b[0;31mValueError\u001b[0m                                Traceback (most recent call last)",
      "\u001b[0;32m<ipython-input-69-8d4757558079>\u001b[0m in \u001b[0;36m<module>\u001b[0;34m\u001b[0m\n\u001b[0;32m----> 1\u001b[0;31m \u001b[0mY_pred\u001b[0m \u001b[0;34m=\u001b[0m \u001b[0mnaive_bayes\u001b[0m\u001b[0;34m(\u001b[0m\u001b[0mX_train\u001b[0m\u001b[0;34m,\u001b[0m \u001b[0mX_test\u001b[0m\u001b[0;34m,\u001b[0m \u001b[0mY_train\u001b[0m\u001b[0;34m)\u001b[0m\u001b[0;34m\u001b[0m\u001b[0;34m\u001b[0m\u001b[0m\n\u001b[0m\u001b[1;32m      2\u001b[0m \u001b[0mY_pred\u001b[0m\u001b[0;34m\u001b[0m\u001b[0;34m\u001b[0m\u001b[0m\n",
      "\u001b[0;32m<ipython-input-68-a60a685bf151>\u001b[0m in \u001b[0;36mnaive_bayes\u001b[0;34m(df, X, Y)\u001b[0m\n\u001b[1;32m     28\u001b[0m                     \u001b[0mlikelihood\u001b[0m\u001b[0;34m[\u001b[0m\u001b[0mi\u001b[0m\u001b[0;34m]\u001b[0m \u001b[0;34m*=\u001b[0m \u001b[0mcalculate_likelihood_gaussian\u001b[0m\u001b[0;34m(\u001b[0m\u001b[0mdf\u001b[0m\u001b[0;34m,\u001b[0m\u001b[0mfeatures\u001b[0m\u001b[0;34m[\u001b[0m\u001b[0mj\u001b[0m\u001b[0;34m]\u001b[0m\u001b[0;34m,\u001b[0m \u001b[0mx\u001b[0m\u001b[0;34m[\u001b[0m\u001b[0mj\u001b[0m\u001b[0;34m]\u001b[0m\u001b[0;34m,\u001b[0m \u001b[0mY\u001b[0m\u001b[0;34m,\u001b[0m \u001b[0mlabels\u001b[0m\u001b[0;34m[\u001b[0m\u001b[0mi\u001b[0m\u001b[0;34m]\u001b[0m\u001b[0;34m)\u001b[0m\u001b[0;34m\u001b[0m\u001b[0;34m\u001b[0m\u001b[0m\n\u001b[1;32m     29\u001b[0m                 \u001b[0;32melse\u001b[0m\u001b[0;34m:\u001b[0m\u001b[0;34m\u001b[0m\u001b[0;34m\u001b[0m\u001b[0m\n\u001b[0;32m---> 30\u001b[0;31m                     \u001b[0mlikelihood\u001b[0m\u001b[0;34m[\u001b[0m\u001b[0mi\u001b[0m\u001b[0;34m]\u001b[0m \u001b[0;34m*=\u001b[0m \u001b[0mcalculate_likelihood_categorical\u001b[0m\u001b[0;34m(\u001b[0m\u001b[0mdf\u001b[0m\u001b[0;34m,\u001b[0m\u001b[0mfeatures\u001b[0m\u001b[0;34m[\u001b[0m\u001b[0mj\u001b[0m\u001b[0;34m]\u001b[0m\u001b[0;34m,\u001b[0m \u001b[0mx\u001b[0m\u001b[0;34m[\u001b[0m\u001b[0mj\u001b[0m\u001b[0;34m]\u001b[0m\u001b[0;34m,\u001b[0m \u001b[0mY\u001b[0m\u001b[0;34m,\u001b[0m \u001b[0mlabels\u001b[0m\u001b[0;34m[\u001b[0m\u001b[0mi\u001b[0m\u001b[0;34m]\u001b[0m\u001b[0;34m)\u001b[0m\u001b[0;34m\u001b[0m\u001b[0;34m\u001b[0m\u001b[0m\n\u001b[0m\u001b[1;32m     31\u001b[0m \u001b[0;34m\u001b[0m\u001b[0m\n\u001b[1;32m     32\u001b[0m \u001b[0;34m\u001b[0m\u001b[0m\n",
      "\u001b[0;32m<ipython-input-19-65305affa1c4>\u001b[0m in \u001b[0;36mcalculate_likelihood_categorical\u001b[0;34m(df, feat_name, feat_val, Y, label)\u001b[0m\n\u001b[1;32m      4\u001b[0m     \u001b[0mdf\u001b[0m \u001b[0;34m=\u001b[0m \u001b[0mdf\u001b[0m\u001b[0;34m.\u001b[0m\u001b[0mdrop\u001b[0m\u001b[0;34m(\u001b[0m\u001b[0;34m[\u001b[0m\u001b[0;34m'BMI'\u001b[0m\u001b[0;34m,\u001b[0m \u001b[0;34m'AgeCategory'\u001b[0m\u001b[0;34m,\u001b[0m \u001b[0;34m'SleepTime'\u001b[0m\u001b[0;34m]\u001b[0m\u001b[0;34m,\u001b[0m \u001b[0maxis\u001b[0m\u001b[0;34m=\u001b[0m\u001b[0;36m1\u001b[0m\u001b[0;34m)\u001b[0m\u001b[0;34m\u001b[0m\u001b[0;34m\u001b[0m\u001b[0m\n\u001b[1;32m      5\u001b[0m     \u001b[0mdf\u001b[0m \u001b[0;34m=\u001b[0m \u001b[0mdf\u001b[0m\u001b[0;34m[\u001b[0m\u001b[0mY\u001b[0m\u001b[0;34m==\u001b[0m\u001b[0mlabel\u001b[0m\u001b[0;34m]\u001b[0m\u001b[0;34m\u001b[0m\u001b[0;34m\u001b[0m\u001b[0m\n\u001b[0;32m----> 6\u001b[0;31m     \u001b[0mp_x_given_y\u001b[0m \u001b[0;34m=\u001b[0m \u001b[0mlen\u001b[0m\u001b[0;34m(\u001b[0m\u001b[0mdf\u001b[0m\u001b[0;34m[\u001b[0m\u001b[0mdf\u001b[0m\u001b[0;34m[\u001b[0m\u001b[0mfeat_name\u001b[0m\u001b[0;34m]\u001b[0m\u001b[0;34m==\u001b[0m\u001b[0mfeat_val\u001b[0m\u001b[0;34m]\u001b[0m\u001b[0;34m)\u001b[0m\u001b[0;34m/\u001b[0m\u001b[0mlen\u001b[0m\u001b[0;34m(\u001b[0m\u001b[0mdf\u001b[0m\u001b[0;34m)\u001b[0m\u001b[0;34m\u001b[0m\u001b[0;34m\u001b[0m\u001b[0m\n\u001b[0m\u001b[1;32m      7\u001b[0m     \u001b[0;32mreturn\u001b[0m \u001b[0mp_x_given_y\u001b[0m\u001b[0;34m\u001b[0m\u001b[0;34m\u001b[0m\u001b[0m\n",
      "\u001b[0;32m~/opt/anaconda3/lib/python3.8/site-packages/pandas/core/ops/common.py\u001b[0m in \u001b[0;36mnew_method\u001b[0;34m(self, other)\u001b[0m\n\u001b[1;32m     63\u001b[0m         \u001b[0mother\u001b[0m \u001b[0;34m=\u001b[0m \u001b[0mitem_from_zerodim\u001b[0m\u001b[0;34m(\u001b[0m\u001b[0mother\u001b[0m\u001b[0;34m)\u001b[0m\u001b[0;34m\u001b[0m\u001b[0;34m\u001b[0m\u001b[0m\n\u001b[1;32m     64\u001b[0m \u001b[0;34m\u001b[0m\u001b[0m\n\u001b[0;32m---> 65\u001b[0;31m         \u001b[0;32mreturn\u001b[0m \u001b[0mmethod\u001b[0m\u001b[0;34m(\u001b[0m\u001b[0mself\u001b[0m\u001b[0;34m,\u001b[0m \u001b[0mother\u001b[0m\u001b[0;34m)\u001b[0m\u001b[0;34m\u001b[0m\u001b[0;34m\u001b[0m\u001b[0m\n\u001b[0m\u001b[1;32m     66\u001b[0m \u001b[0;34m\u001b[0m\u001b[0m\n\u001b[1;32m     67\u001b[0m     \u001b[0;32mreturn\u001b[0m \u001b[0mnew_method\u001b[0m\u001b[0;34m\u001b[0m\u001b[0;34m\u001b[0m\u001b[0m\n",
      "\u001b[0;32m~/opt/anaconda3/lib/python3.8/site-packages/pandas/core/arraylike.py\u001b[0m in \u001b[0;36m__eq__\u001b[0;34m(self, other)\u001b[0m\n\u001b[1;32m     27\u001b[0m     \u001b[0;34m@\u001b[0m\u001b[0munpack_zerodim_and_defer\u001b[0m\u001b[0;34m(\u001b[0m\u001b[0;34m\"__eq__\"\u001b[0m\u001b[0;34m)\u001b[0m\u001b[0;34m\u001b[0m\u001b[0;34m\u001b[0m\u001b[0m\n\u001b[1;32m     28\u001b[0m     \u001b[0;32mdef\u001b[0m \u001b[0m__eq__\u001b[0m\u001b[0;34m(\u001b[0m\u001b[0mself\u001b[0m\u001b[0;34m,\u001b[0m \u001b[0mother\u001b[0m\u001b[0;34m)\u001b[0m\u001b[0;34m:\u001b[0m\u001b[0;34m\u001b[0m\u001b[0;34m\u001b[0m\u001b[0m\n\u001b[0;32m---> 29\u001b[0;31m         \u001b[0;32mreturn\u001b[0m \u001b[0mself\u001b[0m\u001b[0;34m.\u001b[0m\u001b[0m_cmp_method\u001b[0m\u001b[0;34m(\u001b[0m\u001b[0mother\u001b[0m\u001b[0;34m,\u001b[0m \u001b[0moperator\u001b[0m\u001b[0;34m.\u001b[0m\u001b[0meq\u001b[0m\u001b[0;34m)\u001b[0m\u001b[0;34m\u001b[0m\u001b[0;34m\u001b[0m\u001b[0m\n\u001b[0m\u001b[1;32m     30\u001b[0m \u001b[0;34m\u001b[0m\u001b[0m\n\u001b[1;32m     31\u001b[0m     \u001b[0;34m@\u001b[0m\u001b[0munpack_zerodim_and_defer\u001b[0m\u001b[0;34m(\u001b[0m\u001b[0;34m\"__ne__\"\u001b[0m\u001b[0;34m)\u001b[0m\u001b[0;34m\u001b[0m\u001b[0;34m\u001b[0m\u001b[0m\n",
      "\u001b[0;32m~/opt/anaconda3/lib/python3.8/site-packages/pandas/core/series.py\u001b[0m in \u001b[0;36m_cmp_method\u001b[0;34m(self, other, op)\u001b[0m\n\u001b[1;32m   4971\u001b[0m \u001b[0;34m\u001b[0m\u001b[0m\n\u001b[1;32m   4972\u001b[0m         \u001b[0;32mif\u001b[0m \u001b[0misinstance\u001b[0m\u001b[0;34m(\u001b[0m\u001b[0mother\u001b[0m\u001b[0;34m,\u001b[0m \u001b[0mSeries\u001b[0m\u001b[0;34m)\u001b[0m \u001b[0;32mand\u001b[0m \u001b[0;32mnot\u001b[0m \u001b[0mself\u001b[0m\u001b[0;34m.\u001b[0m\u001b[0m_indexed_same\u001b[0m\u001b[0;34m(\u001b[0m\u001b[0mother\u001b[0m\u001b[0;34m)\u001b[0m\u001b[0;34m:\u001b[0m\u001b[0;34m\u001b[0m\u001b[0;34m\u001b[0m\u001b[0m\n\u001b[0;32m-> 4973\u001b[0;31m             \u001b[0;32mraise\u001b[0m \u001b[0mValueError\u001b[0m\u001b[0;34m(\u001b[0m\u001b[0;34m\"Can only compare identically-labeled Series objects\"\u001b[0m\u001b[0;34m)\u001b[0m\u001b[0;34m\u001b[0m\u001b[0;34m\u001b[0m\u001b[0m\n\u001b[0m\u001b[1;32m   4974\u001b[0m \u001b[0;34m\u001b[0m\u001b[0m\n\u001b[1;32m   4975\u001b[0m         \u001b[0mlvalues\u001b[0m \u001b[0;34m=\u001b[0m \u001b[0mextract_array\u001b[0m\u001b[0;34m(\u001b[0m\u001b[0mself\u001b[0m\u001b[0;34m,\u001b[0m \u001b[0mextract_numpy\u001b[0m\u001b[0;34m=\u001b[0m\u001b[0;32mTrue\u001b[0m\u001b[0;34m)\u001b[0m\u001b[0;34m\u001b[0m\u001b[0;34m\u001b[0m\u001b[0m\n",
      "\u001b[0;31mValueError\u001b[0m: Can only compare identically-labeled Series objects"
     ]
    }
   ],
   "source": [
    "Y_pred = naive_bayes(X_train, X_test, Y_train)\n",
    "Y_pred"
   ]
  },
  {
   "cell_type": "code",
   "execution_count": 36,
   "id": "de1711ab",
   "metadata": {},
   "outputs": [
    {
     "data": {
      "text/plain": [
       "(1.0, 0.0)"
      ]
     },
     "execution_count": 36,
     "metadata": {},
     "output_type": "execute_result"
    }
   ],
   "source": [
    "# Accuracy Score\n",
    "acc = np.sum(np.equal(Y_test, x)) / len(Y_test)\n",
    "error = 1 - acc\n",
    "acc, error"
   ]
  },
  {
   "cell_type": "code",
   "execution_count": null,
   "id": "f4719457",
   "metadata": {},
   "outputs": [],
   "source": [
    "# Second Try\n",
    "data = data.sample(frac = 1)\n",
    "\n",
    "X = data.drop('HeartDisease', axis=1)\n",
    "Y = data['HeartDisease'] #Target\n",
    "\n",
    "num_of_rows = int(len(data) * 0.8)\n",
    "\n",
    "X_train = X[:num_of_rows]\n",
    "X_test = X[num_of_rows:]\n",
    "\n",
    "Y_train = Y[:num_of_rows]\n",
    "Y_test = Y[num_of_rows:]"
   ]
  },
  {
   "cell_type": "code",
   "execution_count": null,
   "id": "ad754fd4",
   "metadata": {},
   "outputs": [],
   "source": [
    "Y_pred = naive_bayes(X_train, X_test, Y_train)"
   ]
  },
  {
   "cell_type": "code",
   "execution_count": null,
   "id": "44b7ba28",
   "metadata": {},
   "outputs": [],
   "source": [
    "# Accuracy Score\n",
    "test_acc = met.accuracy_score(Y_test, Y_pred)\n",
    "test_acc"
   ]
  },
  {
   "cell_type": "code",
   "execution_count": null,
   "id": "007f3309",
   "metadata": {},
   "outputs": [],
   "source": [
    "# Third Try\n",
    "data = data.sample(frac = 1)\n",
    "\n",
    "X = data.drop('HeartDisease', axis=1)\n",
    "Y = data['HeartDisease'] #Target\n",
    "\n",
    "num_of_rows = int(len(data) * 0.8)\n",
    "\n",
    "X_train = X[:num_of_rows]\n",
    "X_test = X[num_of_rows:]\n",
    "\n",
    "Y_train = Y[:num_of_rows]\n",
    "Y_test = Y[num_of_rows:]"
   ]
  },
  {
   "cell_type": "code",
   "execution_count": null,
   "id": "9f539cf4",
   "metadata": {},
   "outputs": [],
   "source": [
    "Y_pred = naive_bayes(X_train, X_test, Y_train)"
   ]
  },
  {
   "cell_type": "code",
   "execution_count": null,
   "id": "1a6b2301",
   "metadata": {},
   "outputs": [],
   "source": [
    "# Accuracy Score\n",
    "test_acc = met.accuracy_score(Y_test, Y_pred)\n",
    "test_acc"
   ]
  },
  {
   "cell_type": "code",
   "execution_count": null,
   "id": "bd561da7",
   "metadata": {},
   "outputs": [],
   "source": [
    "# Forth Try\n",
    "data = data.sample(frac = 1)\n",
    "\n",
    "X = data.drop('HeartDisease', axis=1)\n",
    "Y = data['HeartDisease'] #Target\n",
    "\n",
    "num_of_rows = int(len(data) * 0.8)\n",
    "\n",
    "X_train = X[:num_of_rows]\n",
    "X_test = X[num_of_rows:]\n",
    "\n",
    "Y_train = Y[:num_of_rows]\n",
    "Y_test = Y[num_of_rows:]"
   ]
  },
  {
   "cell_type": "code",
   "execution_count": null,
   "id": "49b8adfd",
   "metadata": {},
   "outputs": [],
   "source": [
    "Y_pred = naive_bayes(X_train, X_test, Y_train)"
   ]
  },
  {
   "cell_type": "code",
   "execution_count": null,
   "id": "a01478d7",
   "metadata": {},
   "outputs": [],
   "source": [
    "# Accuracy Score\n",
    "test_acc = met.accuracy_score(Y_test, Y_pred)\n",
    "test_acc"
   ]
  },
  {
   "cell_type": "code",
   "execution_count": null,
   "id": "b9bba01e",
   "metadata": {},
   "outputs": [],
   "source": [
    "# Fifth Try\n",
    "data = data.sample(frac = 1)\n",
    "\n",
    "X = data.drop('HeartDisease', axis=1)\n",
    "Y = data['HeartDisease'] #Target\n",
    "\n",
    "num_of_rows = int(len(data) * 0.8)\n",
    "\n",
    "X_train = X[:num_of_rows]\n",
    "X_test = X[num_of_rows:]\n",
    "\n",
    "Y_train = Y[:num_of_rows]\n",
    "Y_test = Y[num_of_rows:]"
   ]
  },
  {
   "cell_type": "code",
   "execution_count": null,
   "id": "493f1d77",
   "metadata": {},
   "outputs": [],
   "source": [
    "Y_pred = naive_bayes(X_train, X_test, Y_train)"
   ]
  },
  {
   "cell_type": "code",
   "execution_count": null,
   "id": "4835679c",
   "metadata": {},
   "outputs": [],
   "source": [
    "# Accuracy Score\n",
    "test_acc = met.accuracy_score(Y_test, Y_pred)\n",
    "test_acc"
   ]
  },
  {
   "cell_type": "markdown",
   "id": "ebb70953",
   "metadata": {},
   "source": [
    "### Naive Bayes SKLearn"
   ]
  },
  {
   "cell_type": "code",
   "execution_count": null,
   "id": "87fd2b92",
   "metadata": {},
   "outputs": [],
   "source": [
    "NB = CategoricalNB()\n",
    "NB.fit(X, Y)\n",
    "Y_pred = NB.predict(X_test)\n",
    "acc_NB = round(NB.score(X, Y) * 100, 2)\n",
    "acc_NB"
   ]
  },
  {
   "cell_type": "code",
   "execution_count": null,
   "id": "cbde115b",
   "metadata": {},
   "outputs": [],
   "source": [
    "GNB = GaussianNB()\n",
    "GNB.fit(X, Y)\n",
    "Y_pred = GNB.predict(X_test)\n",
    "acc_GNB = round(GNB.score(X, Y) * 100, 2)\n",
    "acc_GNB"
   ]
  },
  {
   "cell_type": "markdown",
   "id": "92afe44e",
   "metadata": {},
   "source": [
    "## K-Nearest_Neighbors (KNN)"
   ]
  },
  {
   "cell_type": "code",
   "execution_count": 35,
   "id": "4b08fa73",
   "metadata": {},
   "outputs": [],
   "source": [
    "def Distance(a, b):\n",
    "    d_ab = a - b\n",
    "    d = np.linalg.norm(d_ab)\n",
    "    return d"
   ]
  },
  {
   "cell_type": "code",
   "execution_count": 36,
   "id": "c7f259f3",
   "metadata": {},
   "outputs": [],
   "source": [
    "def CalculateAllDistances(X, a):\n",
    "    N = np.shape(X)[0] # Data Size\n",
    "    D = np.zeros(N)\n",
    "    for i in range(0, N):\n",
    "        b = X[i]\n",
    "        D[i] = Distance(a, b)\n",
    "    return D"
   ]
  },
  {
   "cell_type": "code",
   "execution_count": 37,
   "id": "e9f86d9d",
   "metadata": {},
   "outputs": [],
   "source": [
    "def KNN(K, X, a):\n",
    "    D = CalculateAllDistances(X, a)\n",
    "    A = np.argsort(D) #Sorting By Distance\n",
    "    knn = A[:K]\n",
    "    return knn"
   ]
  },
  {
   "cell_type": "code",
   "execution_count": 38,
   "id": "a7c3528f",
   "metadata": {},
   "outputs": [],
   "source": [
    "def WeightdKNN(knn, knn_Labels):\n",
    "    L = knn_Labels.copy()\n",
    "    A = [] # Yes Distances \n",
    "    B = [] # No Distances\n",
    "    for i in L:\n",
    "        if L[i] == 0:\n",
    "            A.append(knn[i])\n",
    "        else:\n",
    "            B.append(knn[i])\n",
    "    \n",
    "    for i in A:\n",
    "        sum_A = sum(1/A[i])\n",
    "    for i in B:\n",
    "        sum_B = sum(1/B[i]) \n",
    "        \n",
    "    return sum_A, sum_B"
   ]
  },
  {
   "cell_type": "code",
   "execution_count": 39,
   "id": "83c07ccd",
   "metadata": {},
   "outputs": [],
   "source": [
    "def GetClass(sum_A, sum_B):\n",
    "    if sum_A > sum_B:\n",
    "        predict = 0\n",
    "    elif sum_A < sum_B:\n",
    "        predict = 1\n",
    "    else:\n",
    "        predict = random.randint(0,1)\n",
    "    return predict"
   ]
  },
  {
   "cell_type": "code",
   "execution_count": 40,
   "id": "41974e04",
   "metadata": {},
   "outputs": [],
   "source": [
    "def Classify(K, X, Y, a):\n",
    "    knn = KNN(K, X, a)\n",
    "    knn_Labels = Y[knn, 0]\n",
    "    WK = WeightdKNN(knn, knn_Labels)\n",
    "    P = GetClass(sum_A, sum_B)\n",
    "    return P"
   ]
  },
  {
   "cell_type": "code",
   "execution_count": 41,
   "id": "c30134ae",
   "metadata": {},
   "outputs": [],
   "source": [
    "train_Prediction = np.zeros(np.size(Y_train))\n",
    "test_Prediction = np.zeros(np.size(Y_test))"
   ]
  },
  {
   "cell_type": "code",
   "execution_count": 42,
   "id": "9bf18a95",
   "metadata": {},
   "outputs": [
    {
     "ename": "KeyError",
     "evalue": "0",
     "output_type": "error",
     "traceback": [
      "\u001b[0;31m---------------------------------------------------------------------------\u001b[0m",
      "\u001b[0;31mKeyError\u001b[0m                                  Traceback (most recent call last)",
      "\u001b[0;32m~/opt/anaconda3/lib/python3.8/site-packages/pandas/core/indexes/base.py\u001b[0m in \u001b[0;36mget_loc\u001b[0;34m(self, key, method, tolerance)\u001b[0m\n\u001b[1;32m   3079\u001b[0m             \u001b[0;32mtry\u001b[0m\u001b[0;34m:\u001b[0m\u001b[0;34m\u001b[0m\u001b[0;34m\u001b[0m\u001b[0m\n\u001b[0;32m-> 3080\u001b[0;31m                 \u001b[0;32mreturn\u001b[0m \u001b[0mself\u001b[0m\u001b[0;34m.\u001b[0m\u001b[0m_engine\u001b[0m\u001b[0;34m.\u001b[0m\u001b[0mget_loc\u001b[0m\u001b[0;34m(\u001b[0m\u001b[0mcasted_key\u001b[0m\u001b[0;34m)\u001b[0m\u001b[0;34m\u001b[0m\u001b[0;34m\u001b[0m\u001b[0m\n\u001b[0m\u001b[1;32m   3081\u001b[0m             \u001b[0;32mexcept\u001b[0m \u001b[0mKeyError\u001b[0m \u001b[0;32mas\u001b[0m \u001b[0merr\u001b[0m\u001b[0;34m:\u001b[0m\u001b[0;34m\u001b[0m\u001b[0;34m\u001b[0m\u001b[0m\n",
      "\u001b[0;32mpandas/_libs/index.pyx\u001b[0m in \u001b[0;36mpandas._libs.index.IndexEngine.get_loc\u001b[0;34m()\u001b[0m\n",
      "\u001b[0;32mpandas/_libs/index.pyx\u001b[0m in \u001b[0;36mpandas._libs.index.IndexEngine.get_loc\u001b[0;34m()\u001b[0m\n",
      "\u001b[0;32mpandas/_libs/hashtable_class_helper.pxi\u001b[0m in \u001b[0;36mpandas._libs.hashtable.PyObjectHashTable.get_item\u001b[0;34m()\u001b[0m\n",
      "\u001b[0;32mpandas/_libs/hashtable_class_helper.pxi\u001b[0m in \u001b[0;36mpandas._libs.hashtable.PyObjectHashTable.get_item\u001b[0;34m()\u001b[0m\n",
      "\u001b[0;31mKeyError\u001b[0m: 0",
      "\nThe above exception was the direct cause of the following exception:\n",
      "\u001b[0;31mKeyError\u001b[0m                                  Traceback (most recent call last)",
      "\u001b[0;32m<ipython-input-42-3d7eaa2205de>\u001b[0m in \u001b[0;36m<module>\u001b[0;34m\u001b[0m\n\u001b[1;32m      3\u001b[0m \u001b[0;31m# Making predictions on test dataset\u001b[0m\u001b[0;34m\u001b[0m\u001b[0;34m\u001b[0m\u001b[0;34m\u001b[0m\u001b[0m\n\u001b[1;32m      4\u001b[0m \u001b[0;32mfor\u001b[0m \u001b[0mi\u001b[0m \u001b[0;32min\u001b[0m \u001b[0mrange\u001b[0m\u001b[0;34m(\u001b[0m\u001b[0;36m0\u001b[0m\u001b[0;34m,\u001b[0m \u001b[0mnp\u001b[0m\u001b[0;34m.\u001b[0m\u001b[0msize\u001b[0m\u001b[0;34m(\u001b[0m\u001b[0mY_test\u001b[0m\u001b[0;34m)\u001b[0m\u001b[0;34m)\u001b[0m\u001b[0;34m:\u001b[0m\u001b[0;34m\u001b[0m\u001b[0;34m\u001b[0m\u001b[0m\n\u001b[0;32m----> 5\u001b[0;31m     \u001b[0ma\u001b[0m \u001b[0;34m=\u001b[0m \u001b[0mX_test\u001b[0m\u001b[0;34m[\u001b[0m\u001b[0mi\u001b[0m\u001b[0;34m]\u001b[0m\u001b[0;34m\u001b[0m\u001b[0;34m\u001b[0m\u001b[0m\n\u001b[0m\u001b[1;32m      6\u001b[0m     \u001b[0mpred\u001b[0m \u001b[0;34m=\u001b[0m \u001b[0mClassify\u001b[0m\u001b[0;34m(\u001b[0m\u001b[0mK\u001b[0m\u001b[0;34m,\u001b[0m \u001b[0mX_train\u001b[0m\u001b[0;34m,\u001b[0m \u001b[0mY_train\u001b[0m\u001b[0;34m[\u001b[0m\u001b[0;34m:\u001b[0m\u001b[0;34m,\u001b[0m\u001b[0;36m0\u001b[0m\u001b[0;34m]\u001b[0m\u001b[0;34m,\u001b[0m \u001b[0ma\u001b[0m\u001b[0;34m)\u001b[0m\u001b[0;34m\u001b[0m\u001b[0;34m\u001b[0m\u001b[0m\n\u001b[1;32m      7\u001b[0m     \u001b[0mtest_Prediction\u001b[0m\u001b[0;34m[\u001b[0m\u001b[0mi\u001b[0m\u001b[0;34m]\u001b[0m \u001b[0;34m=\u001b[0m \u001b[0mpred\u001b[0m\u001b[0;34m\u001b[0m\u001b[0;34m\u001b[0m\u001b[0m\n",
      "\u001b[0;32m~/opt/anaconda3/lib/python3.8/site-packages/pandas/core/frame.py\u001b[0m in \u001b[0;36m__getitem__\u001b[0;34m(self, key)\u001b[0m\n\u001b[1;32m   3022\u001b[0m             \u001b[0;32mif\u001b[0m \u001b[0mself\u001b[0m\u001b[0;34m.\u001b[0m\u001b[0mcolumns\u001b[0m\u001b[0;34m.\u001b[0m\u001b[0mnlevels\u001b[0m \u001b[0;34m>\u001b[0m \u001b[0;36m1\u001b[0m\u001b[0;34m:\u001b[0m\u001b[0;34m\u001b[0m\u001b[0;34m\u001b[0m\u001b[0m\n\u001b[1;32m   3023\u001b[0m                 \u001b[0;32mreturn\u001b[0m \u001b[0mself\u001b[0m\u001b[0;34m.\u001b[0m\u001b[0m_getitem_multilevel\u001b[0m\u001b[0;34m(\u001b[0m\u001b[0mkey\u001b[0m\u001b[0;34m)\u001b[0m\u001b[0;34m\u001b[0m\u001b[0;34m\u001b[0m\u001b[0m\n\u001b[0;32m-> 3024\u001b[0;31m             \u001b[0mindexer\u001b[0m \u001b[0;34m=\u001b[0m \u001b[0mself\u001b[0m\u001b[0;34m.\u001b[0m\u001b[0mcolumns\u001b[0m\u001b[0;34m.\u001b[0m\u001b[0mget_loc\u001b[0m\u001b[0;34m(\u001b[0m\u001b[0mkey\u001b[0m\u001b[0;34m)\u001b[0m\u001b[0;34m\u001b[0m\u001b[0;34m\u001b[0m\u001b[0m\n\u001b[0m\u001b[1;32m   3025\u001b[0m             \u001b[0;32mif\u001b[0m \u001b[0mis_integer\u001b[0m\u001b[0;34m(\u001b[0m\u001b[0mindexer\u001b[0m\u001b[0;34m)\u001b[0m\u001b[0;34m:\u001b[0m\u001b[0;34m\u001b[0m\u001b[0;34m\u001b[0m\u001b[0m\n\u001b[1;32m   3026\u001b[0m                 \u001b[0mindexer\u001b[0m \u001b[0;34m=\u001b[0m \u001b[0;34m[\u001b[0m\u001b[0mindexer\u001b[0m\u001b[0;34m]\u001b[0m\u001b[0;34m\u001b[0m\u001b[0;34m\u001b[0m\u001b[0m\n",
      "\u001b[0;32m~/opt/anaconda3/lib/python3.8/site-packages/pandas/core/indexes/base.py\u001b[0m in \u001b[0;36mget_loc\u001b[0;34m(self, key, method, tolerance)\u001b[0m\n\u001b[1;32m   3080\u001b[0m                 \u001b[0;32mreturn\u001b[0m \u001b[0mself\u001b[0m\u001b[0;34m.\u001b[0m\u001b[0m_engine\u001b[0m\u001b[0;34m.\u001b[0m\u001b[0mget_loc\u001b[0m\u001b[0;34m(\u001b[0m\u001b[0mcasted_key\u001b[0m\u001b[0;34m)\u001b[0m\u001b[0;34m\u001b[0m\u001b[0;34m\u001b[0m\u001b[0m\n\u001b[1;32m   3081\u001b[0m             \u001b[0;32mexcept\u001b[0m \u001b[0mKeyError\u001b[0m \u001b[0;32mas\u001b[0m \u001b[0merr\u001b[0m\u001b[0;34m:\u001b[0m\u001b[0;34m\u001b[0m\u001b[0;34m\u001b[0m\u001b[0m\n\u001b[0;32m-> 3082\u001b[0;31m                 \u001b[0;32mraise\u001b[0m \u001b[0mKeyError\u001b[0m\u001b[0;34m(\u001b[0m\u001b[0mkey\u001b[0m\u001b[0;34m)\u001b[0m \u001b[0;32mfrom\u001b[0m \u001b[0merr\u001b[0m\u001b[0;34m\u001b[0m\u001b[0;34m\u001b[0m\u001b[0m\n\u001b[0m\u001b[1;32m   3083\u001b[0m \u001b[0;34m\u001b[0m\u001b[0m\n\u001b[1;32m   3084\u001b[0m         \u001b[0;32mif\u001b[0m \u001b[0mtolerance\u001b[0m \u001b[0;32mis\u001b[0m \u001b[0;32mnot\u001b[0m \u001b[0;32mNone\u001b[0m\u001b[0;34m:\u001b[0m\u001b[0;34m\u001b[0m\u001b[0;34m\u001b[0m\u001b[0m\n",
      "\u001b[0;31mKeyError\u001b[0m: 0"
     ]
    }
   ],
   "source": [
    "K = 10\n",
    "\n",
    "# Making predictions on test dataset\n",
    "for i in range(0, np.size(Y_test)):\n",
    "    a = X_test[i]\n",
    "    pred = Classify(K, X_train, Y_train[:,0], a)\n",
    "    test_Prediction[i] = pred"
   ]
  },
  {
   "cell_type": "code",
   "execution_count": null,
   "id": "eaf29562",
   "metadata": {},
   "outputs": [],
   "source": [
    "# Accuracy Score\n",
    "test_acc11 = met.accuracy_score(Y_test, test_Prediction)\n",
    "test_acc11"
   ]
  },
  {
   "cell_type": "code",
   "execution_count": null,
   "id": "6c1a63ea",
   "metadata": {},
   "outputs": [],
   "source": [
    "train_Prediction = np.zeros(np.size(Y_train))\n",
    "test_Prediction = np.zeros(np.size(Y_test))"
   ]
  },
  {
   "cell_type": "code",
   "execution_count": null,
   "id": "973e618e",
   "metadata": {},
   "outputs": [],
   "source": [
    "K = 20\n",
    "\n",
    "# Making predictions on test dataset\n",
    "for i in range(0, np.size(Y_test)):\n",
    "    a = X_test[i]\n",
    "    pred = Classify(K, X_tarin, Y_train[:,0], a)\n",
    "    test_Prediction[i] = pred"
   ]
  },
  {
   "cell_type": "code",
   "execution_count": null,
   "id": "a4af7cc0",
   "metadata": {},
   "outputs": [],
   "source": [
    "# Accuracy Score\n",
    "test_acc12 = met.accuracy_score(Y_test, test_Prediction)\n",
    "test_acc12"
   ]
  },
  {
   "cell_type": "code",
   "execution_count": null,
   "id": "9c2f5eb9",
   "metadata": {},
   "outputs": [],
   "source": [
    "train_Prediction = np.zeros(np.size(Y_train))\n",
    "test_Prediction = np.zeros(np.size(Y_test))"
   ]
  },
  {
   "cell_type": "code",
   "execution_count": null,
   "id": "e0348880",
   "metadata": {},
   "outputs": [],
   "source": [
    "K = 50\n",
    "\n",
    "# Making predictions on test dataset\n",
    "for i in range(0, np.size(Y_test)):\n",
    "    a = X_test[i]\n",
    "    pred = Classify(K, X_tarin, Y_train[:,0], a)\n",
    "    test_Prediction[i] = pred"
   ]
  },
  {
   "cell_type": "code",
   "execution_count": null,
   "id": "72126a32",
   "metadata": {},
   "outputs": [],
   "source": [
    "# Accuracy Score\n",
    "test_acc11 = met.accuracy_score(Y_test, test_Prediction)\n",
    "test_acc11"
   ]
  },
  {
   "cell_type": "code",
   "execution_count": null,
   "id": "41eaa63c",
   "metadata": {},
   "outputs": [],
   "source": [
    "# Second Try\n",
    "data = data.sample(frac = 1)\n",
    "\n",
    "X = data.drop('HeartDisease', axis=1)\n",
    "Y = data['HeartDisease'] #Target\n",
    "\n",
    "num_of_rows = int(len(data) * 0.8)\n",
    "\n",
    "X_train = X[:num_of_rows]\n",
    "X_test = X[num_of_rows:]\n",
    "\n",
    "Y_train = Y[:num_of_rows]\n",
    "Y_test = Y[num_of_rows:]"
   ]
  },
  {
   "cell_type": "code",
   "execution_count": null,
   "id": "27dd995d",
   "metadata": {},
   "outputs": [],
   "source": [
    "train_Prediction = np.zeros(np.size(Y_train))\n",
    "test_Prediction = np.zeros(np.size(Y_test))"
   ]
  },
  {
   "cell_type": "code",
   "execution_count": null,
   "id": "cd23b735",
   "metadata": {},
   "outputs": [],
   "source": [
    "K = 10\n",
    "\n",
    "# Making predictions on test dataset\n",
    "for i in range(0, np.size(Y_test)):\n",
    "    a = X_test[i]\n",
    "    pred = Classify(K, X_tarin, Y_train[:,0], a)\n",
    "    test_Prediction[i] = pred"
   ]
  },
  {
   "cell_type": "code",
   "execution_count": null,
   "id": "4992e6aa",
   "metadata": {},
   "outputs": [],
   "source": [
    "# Accuracy Score\n",
    "test_acc21 = met.accuracy_score(Y_test, test_Prediction)\n",
    "test_acc21"
   ]
  },
  {
   "cell_type": "code",
   "execution_count": null,
   "id": "d4fae230",
   "metadata": {},
   "outputs": [],
   "source": [
    "train_Prediction = np.zeros(np.size(Y_train))\n",
    "test_Prediction = np.zeros(np.size(Y_test))"
   ]
  },
  {
   "cell_type": "code",
   "execution_count": null,
   "id": "347c70c8",
   "metadata": {},
   "outputs": [],
   "source": [
    "K = 20\n",
    "\n",
    "# Making predictions on test dataset\n",
    "for i in range(0, np.size(Y_test)):\n",
    "    a = X_test[i]\n",
    "    pred = Classify(K, X_tarin, Y_train[:,0], a)\n",
    "    test_Prediction[i] = pred"
   ]
  },
  {
   "cell_type": "code",
   "execution_count": null,
   "id": "5d2e0828",
   "metadata": {},
   "outputs": [],
   "source": [
    "# Accuracy Score\n",
    "test_acc22 = met.accuracy_score(Y_test, test_Prediction)\n",
    "test_acc22"
   ]
  },
  {
   "cell_type": "code",
   "execution_count": null,
   "id": "aee83f8e",
   "metadata": {},
   "outputs": [],
   "source": [
    "K = 50\n",
    "\n",
    "# Making predictions on test dataset\n",
    "for i in range(0, np.size(Y_test)):\n",
    "    a = X_test[i]\n",
    "    pred = Classify(K, X_tarin, Y_train[:,0], a)\n",
    "    test_Prediction[i] = pred"
   ]
  },
  {
   "cell_type": "code",
   "execution_count": null,
   "id": "e1e10a2e",
   "metadata": {},
   "outputs": [],
   "source": [
    "# Accuracy Score\n",
    "test_acc23 = met.accuracy_score(Y_test, test_Prediction)\n",
    "test_acc23"
   ]
  },
  {
   "cell_type": "code",
   "execution_count": null,
   "id": "557be509",
   "metadata": {},
   "outputs": [],
   "source": [
    "# Third Try\n",
    "data = data.sample(frac = 1)\n",
    "\n",
    "X = data.drop('HeartDisease', axis=1)\n",
    "Y = data['HeartDisease'] #Target\n",
    "\n",
    "num_of_rows = int(len(data) * 0.8)\n",
    "\n",
    "X_train = X[:num_of_rows]\n",
    "X_test = X[num_of_rows:]\n",
    "\n",
    "Y_train = Y[:num_of_rows]\n",
    "Y_test = Y[num_of_rows:]"
   ]
  },
  {
   "cell_type": "code",
   "execution_count": null,
   "id": "6d502065",
   "metadata": {},
   "outputs": [],
   "source": [
    "train_Prediction = np.zeros(np.size(Y_train))\n",
    "test_Prediction = np.zeros(np.size(Y_test))"
   ]
  },
  {
   "cell_type": "code",
   "execution_count": null,
   "id": "262355f2",
   "metadata": {},
   "outputs": [],
   "source": [
    "K = 10\n",
    "\n",
    "# Making predictions on test dataset\n",
    "for i in range(0, np.size(Y_test)):\n",
    "    a = X_test[i]\n",
    "    pred = Classify(K, X_tarin, Y_train[:,0], a)\n",
    "    test_Prediction[i] = pred"
   ]
  },
  {
   "cell_type": "code",
   "execution_count": null,
   "id": "e55c80b1",
   "metadata": {},
   "outputs": [],
   "source": [
    "# Accuracy Score\n",
    "test_acc31 = met.accuracy_score(Y_test, test_Prediction)\n",
    "test_acc31"
   ]
  },
  {
   "cell_type": "code",
   "execution_count": null,
   "id": "18a2be6a",
   "metadata": {},
   "outputs": [],
   "source": [
    "train_Prediction = np.zeros(np.size(Y_train))\n",
    "test_Prediction = np.zeros(np.size(Y_test))"
   ]
  },
  {
   "cell_type": "code",
   "execution_count": null,
   "id": "4231c446",
   "metadata": {},
   "outputs": [],
   "source": [
    "K = 20\n",
    "\n",
    "# Making predictions on test dataset\n",
    "for i in range(0, np.size(Y_test)):\n",
    "    a = X_test[i]\n",
    "    pred = Classify(K, X_tarin, Y_train[:,0], a)\n",
    "    test_Prediction[i] = pred"
   ]
  },
  {
   "cell_type": "code",
   "execution_count": null,
   "id": "ca0ee20a",
   "metadata": {},
   "outputs": [],
   "source": [
    "# Accuracy Score\n",
    "test_acc32 = met.accuracy_score(Y_test, test_Prediction)\n",
    "test_acc32"
   ]
  },
  {
   "cell_type": "code",
   "execution_count": null,
   "id": "ef13684c",
   "metadata": {},
   "outputs": [],
   "source": [
    "train_Prediction = np.zeros(np.size(Y_train))\n",
    "test_Prediction = np.zeros(np.size(Y_test))"
   ]
  },
  {
   "cell_type": "code",
   "execution_count": null,
   "id": "143c4b7d",
   "metadata": {},
   "outputs": [],
   "source": [
    "K = 50\n",
    "\n",
    "# Making predictions on test dataset\n",
    "for i in range(0, np.size(Y_test)):\n",
    "    a = X_test[i]\n",
    "    pred = Classify(K, X_tarin, Y_train[:,0], a)\n",
    "    test_Prediction[i] = pred"
   ]
  },
  {
   "cell_type": "code",
   "execution_count": null,
   "id": "5d464369",
   "metadata": {},
   "outputs": [],
   "source": [
    "# Accuracy Score\n",
    "test_acc33 = met.accuracy_score(Y_test, test_Prediction)\n",
    "test_acc33"
   ]
  },
  {
   "cell_type": "code",
   "execution_count": null,
   "id": "d44b1fc6",
   "metadata": {},
   "outputs": [],
   "source": [
    "# Forth Try\n",
    "data = data.sample(frac = 1)\n",
    "\n",
    "X = data.drop('HeartDisease', axis=1)\n",
    "Y = data['HeartDisease'] #Target\n",
    "\n",
    "num_of_rows = int(len(data) * 0.8)\n",
    "\n",
    "X_train = X[:num_of_rows]\n",
    "X_test = X[num_of_rows:]\n",
    "\n",
    "Y_train = Y[:num_of_rows]\n",
    "Y_test = Y[num_of_rows:]"
   ]
  },
  {
   "cell_type": "code",
   "execution_count": null,
   "id": "2ebb2f13",
   "metadata": {},
   "outputs": [],
   "source": [
    "train_Prediction = np.zeros(np.size(Y_train))\n",
    "test_Prediction = np.zeros(np.size(Y_test))"
   ]
  },
  {
   "cell_type": "code",
   "execution_count": null,
   "id": "5f57ac1f",
   "metadata": {},
   "outputs": [],
   "source": [
    "K = 10\n",
    "\n",
    "# Making predictions on test dataset\n",
    "for i in range(0, np.size(Y_test)):\n",
    "    a = X_test[i]\n",
    "    pred = Classify(K, X_tarin, Y_train[:,0], a)\n",
    "    test_Prediction[i] = pred"
   ]
  },
  {
   "cell_type": "code",
   "execution_count": null,
   "id": "4bbd2898",
   "metadata": {},
   "outputs": [],
   "source": [
    "# Accuracy Score\n",
    "test_acc41 = met.accuracy_score(Y_test, test_Prediction)\n",
    "test_acc41"
   ]
  },
  {
   "cell_type": "code",
   "execution_count": null,
   "id": "d88ccad3",
   "metadata": {},
   "outputs": [],
   "source": [
    "train_Prediction = np.zeros(np.size(Y_train))\n",
    "test_Prediction = np.zeros(np.size(Y_test))"
   ]
  },
  {
   "cell_type": "code",
   "execution_count": null,
   "id": "ee723615",
   "metadata": {},
   "outputs": [],
   "source": [
    "K = 20\n",
    "\n",
    "# Making predictions on test dataset\n",
    "for i in range(0, np.size(Y_test)):\n",
    "    a = X_test[i]\n",
    "    pred = Classify(K, X_tarin, Y_train[:,0], a)\n",
    "    test_Prediction[i] = pred"
   ]
  },
  {
   "cell_type": "code",
   "execution_count": null,
   "id": "5eb0888f",
   "metadata": {},
   "outputs": [],
   "source": [
    "# Accuracy Score\n",
    "test_acc42 = met.accuracy_score(Y_test, test_Prediction)\n",
    "test_acc42"
   ]
  },
  {
   "cell_type": "code",
   "execution_count": null,
   "id": "f6b9fb02",
   "metadata": {},
   "outputs": [],
   "source": [
    "train_Prediction = np.zeros(np.size(Y_train))\n",
    "test_Prediction = np.zeros(np.size(Y_test))"
   ]
  },
  {
   "cell_type": "code",
   "execution_count": null,
   "id": "22fbb579",
   "metadata": {},
   "outputs": [],
   "source": [
    "K = 50\n",
    "\n",
    "# Making predictions on test dataset\n",
    "for i in range(0, np.size(Y_test)):\n",
    "    a = X_test[i]\n",
    "    pred = Classify(K, X_tarin, Y_train[:,0], a)\n",
    "    test_Prediction[i] = pred"
   ]
  },
  {
   "cell_type": "code",
   "execution_count": null,
   "id": "0226b585",
   "metadata": {},
   "outputs": [],
   "source": [
    "# Accuracy Score\n",
    "test_acc43 = met.accuracy_score(Y_test, test_Prediction)\n",
    "test_acc43"
   ]
  },
  {
   "cell_type": "code",
   "execution_count": null,
   "id": "46013e3f",
   "metadata": {},
   "outputs": [],
   "source": [
    "# Fifth Try\n",
    "data = data.sample(frac = 1)\n",
    "\n",
    "X = data.drop('HeartDisease', axis=1)\n",
    "Y = data['HeartDisease'] #Target\n",
    "\n",
    "num_of_rows = int(len(data) * 0.8)\n",
    "\n",
    "X_train = X[:num_of_rows]\n",
    "X_test = X[num_of_rows:]\n",
    "\n",
    "Y_train = Y[:num_of_rows]\n",
    "Y_test = Y[num_of_rows:]"
   ]
  },
  {
   "cell_type": "code",
   "execution_count": null,
   "id": "9298de5a",
   "metadata": {},
   "outputs": [],
   "source": [
    "train_Prediction = np.zeros(np.size(Y_train))\n",
    "test_Prediction = np.zeros(np.size(Y_test))"
   ]
  },
  {
   "cell_type": "code",
   "execution_count": null,
   "id": "35a7fa30",
   "metadata": {},
   "outputs": [],
   "source": [
    "K = 10\n",
    "\n",
    "# Making predictions on test dataset\n",
    "for i in range(0, np.size(Y_test)):\n",
    "    a = X_test[i]\n",
    "    pred = Classify(K, X_tarin, Y_train[:,0], a)\n",
    "    test_Prediction[i] = pred"
   ]
  },
  {
   "cell_type": "code",
   "execution_count": null,
   "id": "16f70aeb",
   "metadata": {},
   "outputs": [],
   "source": [
    "# Accuracy Score\n",
    "test_acc51 = met.accuracy_score(Y_test, test_Prediction)\n",
    "test_acc51"
   ]
  },
  {
   "cell_type": "code",
   "execution_count": null,
   "id": "08e0f381",
   "metadata": {},
   "outputs": [],
   "source": [
    "train_Prediction = np.zeros(np.size(Y_train))\n",
    "test_Prediction = np.zeros(np.size(Y_test))"
   ]
  },
  {
   "cell_type": "code",
   "execution_count": null,
   "id": "cdd2bffc",
   "metadata": {},
   "outputs": [],
   "source": [
    "K = 20\n",
    "\n",
    "# Making predictions on test dataset\n",
    "for i in range(0, np.size(Y_test)):\n",
    "    a = X_test[i]\n",
    "    pred = Classify(K, X_tarin, Y_train[:,0], a)\n",
    "    test_Prediction[i] = pred"
   ]
  },
  {
   "cell_type": "code",
   "execution_count": null,
   "id": "6c322cb4",
   "metadata": {},
   "outputs": [],
   "source": [
    "# Accuracy Score\n",
    "test_acc52 = met.accuracy_score(Y_test, test_Prediction)\n",
    "test_acc52"
   ]
  },
  {
   "cell_type": "code",
   "execution_count": null,
   "id": "1f5b9b50",
   "metadata": {},
   "outputs": [],
   "source": [
    "train_Prediction = np.zeros(np.size(Y_train))\n",
    "test_Prediction = np.zeros(np.size(Y_test))"
   ]
  },
  {
   "cell_type": "code",
   "execution_count": null,
   "id": "1c82d717",
   "metadata": {},
   "outputs": [],
   "source": [
    "K = 50\n",
    "\n",
    "# Making predictions on test dataset\n",
    "for i in range(0, np.size(Y_test)):\n",
    "    a = X_test[i]\n",
    "    pred = Classify(K, X_tarin, Y_train[:,0], a)\n",
    "    test_Prediction[i] = pred"
   ]
  },
  {
   "cell_type": "code",
   "execution_count": null,
   "id": "e6a9687b",
   "metadata": {},
   "outputs": [],
   "source": [
    "# Accuracy Score\n",
    "test_acc53 = met.accuracy_score(Y_test, test_Prediction)\n",
    "test_acc53"
   ]
  },
  {
   "cell_type": "markdown",
   "id": "d4b171fe",
   "metadata": {},
   "source": [
    "### KNN SKLearn"
   ]
  },
  {
   "cell_type": "code",
   "execution_count": null,
   "id": "61dab332",
   "metadata": {},
   "outputs": [],
   "source": [
    "knn = KNeighborsClassifier(n_neighbors=10)\n",
    "knn.fit(X, Y)\n",
    "Y_pred = knn.predict(X_test)\n",
    "acc_knn = round(knn.score(X, Y) * 100, 2)\n",
    "acc_knn"
   ]
  },
  {
   "cell_type": "code",
   "execution_count": null,
   "id": "0fadc109",
   "metadata": {},
   "outputs": [],
   "source": [
    "knn = KNeighborsClassifier(n_neighbors=20)\n",
    "knn.fit(X, Y)\n",
    "Y_pred = knn.predict(X_test)\n",
    "acc_knn = round(knn.score(X, Y) * 100, 2)\n",
    "acc_knn"
   ]
  },
  {
   "cell_type": "code",
   "execution_count": null,
   "id": "5ef3a3f4",
   "metadata": {},
   "outputs": [],
   "source": [
    "knn = KNeighborsClassifier(n_neighbors=50)\n",
    "knn.fit(X, Y)\n",
    "Y_pred = knn.predict(X_test)\n",
    "acc_knn = round(knn.score(X, Y) * 100, 2)\n",
    "acc_knn"
   ]
  }
 ],
 "metadata": {
  "kernelspec": {
   "display_name": "Python 3",
   "language": "python",
   "name": "python3"
  },
  "language_info": {
   "codemirror_mode": {
    "name": "ipython",
    "version": 3
   },
   "file_extension": ".py",
   "mimetype": "text/x-python",
   "name": "python",
   "nbconvert_exporter": "python",
   "pygments_lexer": "ipython3",
   "version": "3.8.8"
  }
 },
 "nbformat": 4,
 "nbformat_minor": 5
}
